{
  "nbformat": 4,
  "nbformat_minor": 0,
  "metadata": {
    "colab": {
      "provenance": []
    },
    "kernelspec": {
      "name": "python3",
      "display_name": "Python 3"
    },
    "language_info": {
      "name": "python"
    }
  },
  "cells": [
    {
      "cell_type": "code",
      "execution_count": 1,
      "metadata": {
        "colab": {
          "base_uri": "https://localhost:8080/"
        },
        "id": "Haj4FS53NBZx",
        "outputId": "a1d5eb16-a717-49d4-a559-3847dfc6eee7"
      },
      "outputs": [
        {
          "output_type": "stream",
          "name": "stdout",
          "text": [
            "Welcome to the Python Lab!\n"
          ]
        }
      ],
      "source": [
        "###### Q2\n",
        "# 2) Assign a message to a variable, and then print that message.\n",
        "\n",
        "msg = 'Welcome to the Python Lab!'\n",
        "print(msg)"
      ]
    },
    {
      "cell_type": "code",
      "source": [
        "##### Q3\n",
        "#Use a variable to represent your favorite number. Then, using that variable,\n",
        "#create a message that reveals your favorite number. Print that message.\n",
        "\n",
        "favNumber = input('Please Enter Ur Fav Number : ')\n",
        "print('Your Fav Number is '+favNumber)"
      ],
      "metadata": {
        "colab": {
          "base_uri": "https://localhost:8080/"
        },
        "id": "7eUyrIIrWJcG",
        "outputId": "99419e98-7c2f-4396-9662-35da776d139b"
      },
      "execution_count": 3,
      "outputs": [
        {
          "output_type": "stream",
          "name": "stdout",
          "text": [
            "Please Enter Ur Fav Number : 3\n",
            "Your Fav Number is 3\n"
          ]
        }
      ]
    },
    {
      "cell_type": "code",
      "source": [
        " ##### Q4\n",
        "#The volume of a sphere with radius r is 4/3πr3. What is the volume of a sphere\n",
        "#with radius 5? Start with a variable named radius and then assign the result to a variable named volume. Display the result. Add comments to indicate that radius is in centimeters and volume in cubic centimeters.\n",
        "\n",
        "radius = input('Please Enter Radius :')\n",
        "radius = float(radius) #radius is in centimeters\n",
        "PI = 3.14\n",
        "volume = 4/3 * PI * (radius **3) #volume in cubic centimeters.\n",
        "print('Volumn of sphere :',volume)"
      ],
      "metadata": {
        "colab": {
          "base_uri": "https://localhost:8080/"
        },
        "id": "aSAAxvUnWPxn",
        "outputId": "577878bc-bd06-4287-9d17-71d99a24ac1e"
      },
      "execution_count": 4,
      "outputs": [
        {
          "output_type": "stream",
          "name": "stdout",
          "text": [
            "Please Enter Radius :5\n",
            "Volumn of sphere : 523.3333333333334\n"
          ]
        }
      ]
    },
    {
      "cell_type": "code",
      "source": [
        "\n",
        "#5) Let’s your program already contains two integer variables, x and y:\n",
        "#x = 27\n",
        "#y = 15\n",
        "#Please complete the program so that it also prints out the following:\n",
        "#27 + 15 = 42\n",
        "#27 - 15 = 12\n",
        "#27 * 15 = 405\n",
        "#27 / 15 = 1.8\n",
        "\n",
        "x=27\n",
        "y=15\n",
        "print(f\" {x}, + {y} = {x+y}\")\n",
        "print(f\" {x}, - {y} = {x-y}\")\n",
        "print(f\" {x}, * {y} = {x*y}\")\n",
        "print(f\" {x}, / {y} = {x/y}\")"
      ],
      "metadata": {
        "colab": {
          "base_uri": "https://localhost:8080/"
        },
        "id": "eIlA8kADWj1D",
        "outputId": "c9455a84-0d9e-4232-b443-e72d591f8d7f"
      },
      "execution_count": 5,
      "outputs": [
        {
          "output_type": "stream",
          "name": "stdout",
          "text": [
            " 27, + 15 = 42\n",
            " 27, - 15 = 12\n",
            " 27, * 15 = 405\n",
            " 27, / 15 = 1.8\n"
          ]
        }
      ]
    },
    {
      "cell_type": "code",
      "source": [
        "#6) Please write a program which asks the user for a number of days. The program then prints out the number of seconds in the number of days given.\n",
        "#How many days? 1 Seconds in that many days: 86400\n",
        "\n",
        "dayNumber = input('Please Enter number of days: ')\n",
        "dayNumber = int(dayNumber)\n",
        " # Calculate seconds: days * hours * minutes * seconds\n",
        "print(f'Seconds in that many days: {dayNumber*24*60*60}')"
      ],
      "metadata": {
        "colab": {
          "base_uri": "https://localhost:8080/"
        },
        "id": "uOMmOBMwWpac",
        "outputId": "baa0763a-889d-44d1-e873-f654a87632ce"
      },
      "execution_count": 8,
      "outputs": [
        {
          "output_type": "stream",
          "name": "stdout",
          "text": [
            "Please Enter number of days: 1\n",
            "Seconds in that many days: 86400\n"
          ]
        }
      ]
    },
    {
      "cell_type": "code",
      "source": [
        "# #7) Please write a program which asks for the number of students on a course\n",
        "\n",
        "StudentsNumber = input('How many students on the course: ')\n",
        "StudentsNumber = int(StudentsNumber)\n",
        "groupSize = input('Desired group size?')\n",
        "groupSize = int(groupSize)\n",
        "groupsFormed = StudentsNumber / groupSize\n",
        "print(f'Number of groups formed :',round(groupsFormed))\n",
        "#groupsFormed = (StudentsNumber + groupSize - 1) // groupSize"
      ],
      "metadata": {
        "colab": {
          "base_uri": "https://localhost:8080/"
        },
        "id": "-PCWk9vVWuqd",
        "outputId": "7506b202-afa7-4f4f-d46b-a904246d739c"
      },
      "execution_count": 9,
      "outputs": [
        {
          "output_type": "stream",
          "name": "stdout",
          "text": [
            "How many students on the course: 25\n",
            "Desired group size?4\n",
            "Number of groups formed : 6\n"
          ]
        }
      ]
    },
    {
      "cell_type": "code",
      "source": [],
      "metadata": {
        "id": "rpEOhrD2W8kU"
      },
      "execution_count": null,
      "outputs": []
    }
  ]
}